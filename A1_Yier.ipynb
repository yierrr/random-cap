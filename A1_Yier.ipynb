{
  "nbformat": 4,
  "nbformat_minor": 0,
  "metadata": {
    "colab": {
      "name": "A1 - Yier.ipynb",
      "provenance": [],
      "collapsed_sections": [
        "2sdzJtHxIRsS"
      ],
      "authorship_tag": "ABX9TyMJvon36PQtHEG7FvpsiKFe",
      "include_colab_link": true
    },
    "kernelspec": {
      "name": "python3",
      "display_name": "Python 3"
    },
    "language_info": {
      "name": "python"
    }
  },
  "cells": [
    {
      "cell_type": "markdown",
      "metadata": {
        "id": "view-in-github",
        "colab_type": "text"
      },
      "source": [
        "<a href=\"https://colab.research.google.com/github/yierrr/random-nonsense/blob/main/A1_Yier.ipynb\" target=\"_parent\"><img src=\"https://colab.research.google.com/assets/colab-badge.svg\" alt=\"Open In Colab\"/></a>"
      ]
    },
    {
      "cell_type": "code",
      "metadata": {
        "colab": {
          "base_uri": "https://localhost:8080/"
        },
        "id": "Oq8Fy6jYbTwZ",
        "outputId": "7d1035ba-de91-4b2d-eb91-104a529ebab3"
      },
      "source": [
        "! pip install mpi4py"
      ],
      "execution_count": null,
      "outputs": [
        {
          "output_type": "stream",
          "name": "stdout",
          "text": [
            "Requirement already satisfied: mpi4py in /usr/local/lib/python3.7/dist-packages (3.1.1)\n"
          ]
        }
      ]
    },
    {
      "cell_type": "code",
      "metadata": {
        "id": "Gofw0DXidRo8"
      },
      "source": [
        "import numpy as np\n",
        "import scipy.stats as sts\n",
        "import time"
      ],
      "execution_count": null,
      "outputs": []
    },
    {
      "cell_type": "markdown",
      "metadata": {
        "id": "g2q67mM2lz7c"
      },
      "source": [
        "# Question 1a"
      ]
    },
    {
      "cell_type": "code",
      "metadata": {
        "colab": {
          "base_uri": "https://localhost:8080/"
        },
        "id": "0q7cd9HtcKXa",
        "outputId": "0d41b6f5-34e1-441c-ab34-e6a747eeafdf"
      },
      "source": [
        "%%writefile sim_og.py \n",
        "from mpi4py import MPI\n",
        "import numpy as np\n",
        "import scipy.stats as sts\n",
        "import time\n",
        "\n",
        "comm = MPI.COMM_WORLD\n",
        "size = comm.Get_size()\n",
        "rank = comm.Get_rank()\n",
        "name = MPI.Get_processor_name()\n",
        "\n",
        "\n",
        "# Set model parameters\n",
        "rho = 0.5\n",
        "mu = 3.0\n",
        "sigma = 1.0\n",
        "z_0 = mu\n",
        "# Set simulation parameters, draw all idiosyncratic random shocks,\n",
        "# and create empty containers\n",
        "S = 1000 # Set the number of lives to simulate\n",
        "T = int(4160) # Set the number of periods for each simulation\n",
        "np.random.seed(25)\n",
        "eps_mat = sts.norm.rvs(loc=0, scale=sigma, size=(T, S)) # error term matrix\n",
        "z_mat = np.zeros((T, S))\n",
        "\n",
        "for s_ind in range(S):\n",
        "    z_tm1 = z_0\n",
        "    for t_ind in range(T):\n",
        "        e_t = eps_mat[t_ind, s_ind]\n",
        "        z_t = rho * z_tm1 + (1 - rho) * mu + e_t\n",
        "        z_mat[t_ind, s_ind] = z_t\n",
        "        z_tm1 = z_t\n"
      ],
      "execution_count": null,
      "outputs": [
        {
          "output_type": "stream",
          "name": "stdout",
          "text": [
            "Overwriting sim_og.py\n"
          ]
        }
      ]
    },
    {
      "cell_type": "code",
      "metadata": {
        "colab": {
          "base_uri": "https://localhost:8080/"
        },
        "id": "o4jE8M9rd7G4",
        "outputId": "a24b5df1-8936-4e9a-bd33-a97741ebd0b6"
      },
      "source": [
        "t1_og = time.time()\n",
        "! mpirun --allow-run-as-root -n 1 python sim_og.py\n",
        "t2_og = time.time()\n",
        "dt_og = t2_og - t1_og\n",
        "print(dt_og)"
      ],
      "execution_count": null,
      "outputs": [
        {
          "output_type": "stream",
          "name": "stdout",
          "text": [
            "9.360298871994019\n"
          ]
        }
      ]
    },
    {
      "cell_type": "code",
      "metadata": {
        "id": "srMwWC7xbYm3"
      },
      "source": [
        "rho = 0.5\n",
        "mu = 3.0\n",
        "sigma = 1.0\n",
        "z_0 = mu\n",
        "# Set simulation parameters, draw all idiosyncratic random shocks,\n",
        "# and create empty containers\n",
        "S = 1000 # Set the number of lives to simulate\n",
        "T = int(4160) # Set the number of periods for each simulation\n",
        "np.random.seed(25)\n",
        "eps_mat = sts.norm.rvs(loc=0, scale=sigma, size=(T, S)) # error term matrix\n",
        "z_mat = np.zeros((T, S))\n",
        "\n",
        "for s_ind in range(S):\n",
        "    z_tm1 = z_0\n",
        "    for t_ind in range(T):\n",
        "        e_t = eps_mat[t_ind, s_ind]\n",
        "        z_t = rho * z_tm1 + (1 - rho) * mu + e_t\n",
        "        z_mat[t_ind, s_ind] = z_t\n",
        "        z_tm1 = z_t"
      ],
      "execution_count": null,
      "outputs": []
    },
    {
      "cell_type": "code",
      "metadata": {
        "id": "PNgKvBsMcwU6"
      },
      "source": [
        "# # %%writefile fn.py \n",
        "# from mpi4py import MPI\n",
        "\n",
        "# comm = MPI.COMM_WORLD\n",
        "# size = comm.Get_size()\n",
        "# rank = comm.Get_rank()\n",
        "# name = MPI.Get_processor_name()\n",
        "\n",
        "\n",
        "from numba.pycc import CC\n",
        "\n",
        "# name of compiled module to create:\n",
        "cc = CC('q1a_aot')\n",
        "\n",
        "# name of function in module, with explicit data types required (4byte=32bit ints and floats)\n",
        "@cc.export('gen_ts', 'f8[:,:](i8,i8,f8[:,:],f8,f8,f8,f8[:,:])')\n",
        "def gen_ts(S,T,eps_mat,rho,mu,z_0,z_mat):\n",
        "    for s_ind in range(S):\n",
        "        z_tm1 = z_0\n",
        "        for t_ind in range(T):\n",
        "            e_t = eps_mat[t_ind, s_ind]\n",
        "            z_t = rho * z_tm1 + (1 - rho) * mu + e_t\n",
        "            z_mat[t_ind, s_ind] = z_t\n",
        "            z_tm1 = z_t\n",
        "    \n",
        "    return z_mat\n",
        "\n",
        "cc.compile()"
      ],
      "execution_count": null,
      "outputs": []
    },
    {
      "cell_type": "code",
      "metadata": {
        "colab": {
          "base_uri": "https://localhost:8080/"
        },
        "id": "wBA1RNy9dOWY",
        "outputId": "b43a09e9-cd57-4d09-d85a-a5efc909ba07"
      },
      "source": [
        "%%writefile sim_nb.py \n",
        "from mpi4py import MPI\n",
        "import numpy as np\n",
        "import q1a_aot\n",
        "import scipy.stats as sts\n",
        "import time\n",
        "\n",
        "comm = MPI.COMM_WORLD\n",
        "size = comm.Get_size()\n",
        "rank = comm.Get_rank()\n",
        "name = MPI.Get_processor_name()\n",
        "\n",
        "# Set model parameters\n",
        "rho = 0.5\n",
        "mu = 3.0\n",
        "sigma = 1.0\n",
        "z_0 = mu\n",
        "# Set simulation parameters, draw all idiosyncratic random shocks,\n",
        "# and create empty containers\n",
        "S = 1000 # Set the number of lives to simulate\n",
        "T = int(4160) # Set the number of periods for each simulation\n",
        "np.random.seed(25)\n",
        "eps_mat = sts.norm.rvs(loc=0, scale=sigma, size=(T, S)) # error term matrix\n",
        "z_mat = np.zeros((T, S))\n",
        "q1a_aot.gen_ts(S,T,eps_mat,rho,mu,z_0,z_mat)\n"
      ],
      "execution_count": 1,
      "outputs": [
        {
          "output_type": "stream",
          "name": "stdout",
          "text": [
            "Writing sim_nb.py\n"
          ]
        }
      ]
    },
    {
      "cell_type": "code",
      "metadata": {
        "colab": {
          "base_uri": "https://localhost:8080/"
        },
        "id": "PtByNC2heoLk",
        "outputId": "af8cc9a1-2523-4579-d109-0e3a6c6221d5"
      },
      "source": [
        "\n",
        "t1_nb = time.time()\n",
        "! mpirun --allow-run-as-root -n 1 python sim_nb.py\n",
        "t2_nb = time.time()\n",
        "dt_nb = t2_nb - t1_nb\n",
        "print(dt_nb)"
      ],
      "execution_count": null,
      "outputs": [
        {
          "output_type": "stream",
          "name": "stdout",
          "text": [
            "2.129838705062866\n"
          ]
        }
      ]
    },
    {
      "cell_type": "markdown",
      "metadata": {
        "id": "rwfZM0wod1ip"
      },
      "source": [
        "# Q1b"
      ]
    },
    {
      "cell_type": "code",
      "metadata": {
        "colab": {
          "base_uri": "https://localhost:8080/"
        },
        "id": "T7mmdw_sZnCD",
        "outputId": "3f3b796a-ee87-43f1-e748-d53b10bba644"
      },
      "source": [
        "%%writefile sim_new.py \n",
        "from mpi4py import MPI\n",
        "import numpy as np\n",
        "import q1a_aot\n",
        "import scipy.stats as sts\n",
        "import time\n",
        "import matplotlib.pyplot as plt\n",
        "\n",
        "def sim_new(n_runs=1000):\n",
        "    comm = MPI.COMM_WORLD\n",
        "    size = comm.Get_size()\n",
        "    rank = comm.Get_rank()\n",
        "    # name = MPI.Get_processor_name()\n",
        "    \n",
        "    t0=time.time()\n",
        "    S = int(n_runs // size)\n",
        "\n",
        "    # Set model parameters\n",
        "    rho = 0.5\n",
        "    mu = 3.0\n",
        "    sigma = 1.0\n",
        "    z_0 = mu\n",
        "    # Set simulation parameters, draw all idiosyncratic random shocks,\n",
        "    # and create empty containers\n",
        "    T = int(4160) # Set the number of periods for each simulation\n",
        "\n",
        "    np.random.seed(rank)\n",
        "    eps_mat = sts.norm.rvs(loc=0, scale=sigma, size=(T, S)) # error term matrix\n",
        "    z_mat = np.zeros((T, S))\n",
        "    z_mat = q1a_aot.gen_ts(S,T,eps_mat,rho,mu,z_0,z_mat)\n",
        "\n",
        "    z_mat0=None\n",
        "    if rank == 0:\n",
        "        z_mat0 = np.empty([T,S*size], dtype = 'float')\n",
        "    comm.Gather(sendbuf = z_mat, recvbuf = z_mat0, root = 0)\n",
        "    if rank == 0:\n",
        "        dt = time.time()-t0\n",
        "        print([dt,size])\n",
        "    return \n",
        "\n",
        "\n",
        "def main():\n",
        "    sim_new(n_runs=1000)\n",
        "\n",
        "if __name__ == '__main__':\n",
        "    main()"
      ],
      "execution_count": null,
      "outputs": [
        {
          "output_type": "stream",
          "name": "stdout",
          "text": [
            "Writing sim_new.py\n"
          ]
        }
      ]
    },
    {
      "cell_type": "code",
      "metadata": {
        "colab": {
          "base_uri": "https://localhost:8080/"
        },
        "id": "WxJ961S-wEqn",
        "outputId": "17ee3f19-9c8f-4d8f-e62c-2490d77a5828"
      },
      "source": [
        "! mpirun --allow-run-as-root -n 4 python sim_new.py"
      ],
      "execution_count": null,
      "outputs": [
        {
          "output_type": "stream",
          "name": "stdout",
          "text": [
            "[0.2507157325744629, 4]\n"
          ]
        }
      ]
    },
    {
      "cell_type": "code",
      "metadata": {
        "id": "q4jeuj9W9z0E"
      },
      "source": [
        "%%bash\n",
        "for i in {1..20}\n",
        "do\n",
        "  mpirun --allow-run-as-root -n $i python3 sim_new.py >> new_ts.out\n",
        "done"
      ],
      "execution_count": null,
      "outputs": []
    },
    {
      "cell_type": "code",
      "metadata": {
        "colab": {
          "base_uri": "https://localhost:8080/"
        },
        "id": "mlZVwjmw4GMh",
        "outputId": "3358363b-8a20-45cd-a315-ae735d4fe596"
      },
      "source": [
        "cat new_ts.out"
      ],
      "execution_count": null,
      "outputs": [
        {
          "output_type": "stream",
          "name": "stdout",
          "text": [
            "[0.313706636428833, 1]\n",
            "[0.27654528617858887, 2]\n",
            "[0.3341958522796631, 3]\n",
            "[0.42417049407958984, 4]\n",
            "[0.3909618854522705, 5]\n",
            "[1.1354515552520752, 6]\n",
            "[2.2182183265686035, 7]\n",
            "[0.4938480854034424, 8]\n",
            "[0.6925902366638184, 9]\n",
            "[5.664339780807495, 10]\n",
            "[5.3716912269592285, 11]\n",
            "[2.9044711589813232, 12]\n",
            "[0.5131118297576904, 13]\n",
            "[0.5233206748962402, 14]\n",
            "[6.041232347488403, 15]\n",
            "[4.1668541431427, 16]\n",
            "[3.1761691570281982, 17]\n",
            "[14.835201740264893, 18]\n",
            "[2.882321357727051, 19]\n",
            "[28.917636394500732, 20]\n"
          ]
        }
      ]
    },
    {
      "cell_type": "code",
      "metadata": {
        "colab": {
          "base_uri": "https://localhost:8080/",
          "height": 285
        },
        "id": "H6krtSCmAkir",
        "outputId": "796884cc-08d0-47c1-d5d0-2b0b780b6c7a"
      },
      "source": [
        "import numpy as np\n",
        "import matplotlib.pyplot as plt\n",
        "lst = [\n",
        "[0.313706636428833, 1],\n",
        "[0.27654528617858887, 2],\n",
        "[0.3341958522796631, 3],\n",
        "[0.42417049407958984, 4],\n",
        "[0.3909618854522705, 5],\n",
        "[1.1354515552520752, 6],\n",
        "[2.2182183265686035, 7],\n",
        "[0.4938480854034424, 8],\n",
        "[0.6925902366638184, 9],\n",
        "[5.664339780807495, 10],\n",
        "[5.3716912269592285, 11],\n",
        "[2.9044711589813232, 12],\n",
        "[0.5131118297576904, 13],\n",
        "[0.5233206748962402, 14],\n",
        "[6.041232347488403, 15],\n",
        "[4.1668541431427, 16],\n",
        "[3.1761691570281982, 17],\n",
        "[14.835201740264893, 18],\n",
        "[2.882321357727051, 19],\n",
        "[28.917636394500732, 20]]\n",
        "\n",
        "time = [i[0] for i in lst]\n",
        "core = [i[1] for i in lst]\n",
        "plt.plot(core,time)\n",
        "\n"
      ],
      "execution_count": null,
      "outputs": [
        {
          "output_type": "execute_result",
          "data": {
            "text/plain": [
              "[<matplotlib.lines.Line2D at 0x7f500495fad0>]"
            ]
          },
          "metadata": {},
          "execution_count": 22
        },
        {
          "output_type": "display_data",
          "data": {
            "image/png": "[encoded data removed]",
            "text/plain": [
              "<Figure size 432x288 with 1 Axes>"
            ]
          },
          "metadata": {
            "needs_background": "light"
          }
        }
      ]
    },
    {
      "cell_type": "code",
      "metadata": {
        "colab": {
          "base_uri": "https://localhost:8080/",
          "height": 477
        },
        "id": "Hspf3OxCIG4v",
        "outputId": "0184c00f-70fa-424e-91a0-392bb24540d4"
      },
      "source": [
        "# remove outliers\n",
        "n_lst = [i for i in lst if i[0]>0 and i[0]<1]\n",
        "time1 = [i[0] for i in n_lst]\n",
        "core1 = [i[1] for i in n_lst]\n",
        "plt.plot(core1,time1)"
      ],
      "execution_count": null,
      "outputs": [
        {
          "output_type": "error",
          "ename": "TypeError",
          "evalue": "ignored",
          "traceback": [
            "\u001b[0;31m---------------------------------------------------------------------------\u001b[0m",
            "\u001b[0;31mTypeError\u001b[0m                                 Traceback (most recent call last)",
            "\u001b[0;32m<ipython-input-149-80c13c6cd107>\u001b[0m in \u001b[0;36m<module>\u001b[0;34m()\u001b[0m\n\u001b[1;32m      4\u001b[0m \u001b[0mcore1\u001b[0m \u001b[0;34m=\u001b[0m \u001b[0;34m[\u001b[0m\u001b[0mi\u001b[0m\u001b[0;34m[\u001b[0m\u001b[0;36m1\u001b[0m\u001b[0;34m]\u001b[0m \u001b[0;32mfor\u001b[0m \u001b[0mi\u001b[0m \u001b[0;32min\u001b[0m \u001b[0mn_lst\u001b[0m\u001b[0;34m]\u001b[0m\u001b[0;34m\u001b[0m\u001b[0;34m\u001b[0m\u001b[0m\n\u001b[1;32m      5\u001b[0m \u001b[0mplt\u001b[0m\u001b[0;34m.\u001b[0m\u001b[0mplot\u001b[0m\u001b[0;34m(\u001b[0m\u001b[0mcore1\u001b[0m\u001b[0;34m,\u001b[0m\u001b[0mtime1\u001b[0m\u001b[0;34m)\u001b[0m\u001b[0;34m\u001b[0m\u001b[0;34m\u001b[0m\u001b[0m\n\u001b[0;32m----> 6\u001b[0;31m \u001b[0mplt\u001b[0m\u001b[0;34m.\u001b[0m\u001b[0mxlabel\u001b[0m\u001b[0;34m(\u001b[0m\u001b[0;34m\"Average Pulse\"\u001b[0m\u001b[0;34m)\u001b[0m\u001b[0;34m\u001b[0m\u001b[0;34m\u001b[0m\u001b[0m\n\u001b[0m\u001b[1;32m      7\u001b[0m \u001b[0mplt\u001b[0m\u001b[0;34m.\u001b[0m\u001b[0mylabel\u001b[0m\u001b[0;34m(\u001b[0m\u001b[0;34m\"Average Pulse\"\u001b[0m\u001b[0;34m)\u001b[0m\u001b[0;34m\u001b[0m\u001b[0;34m\u001b[0m\u001b[0m\n",
            "\u001b[0;31mTypeError\u001b[0m: 'str' object is not callable"
          ]
        },
        {
          "output_type": "display_data",
          "data": {
            "image/png": "[encoded data removed]",
            "text/plain": [
              "<Figure size 432x288 with 1 Axes>"
            ]
          },
          "metadata": {
            "needs_background": "light"
          }
        }
      ]
    },
    {
      "cell_type": "code",
      "metadata": {
        "id": "Lx0zIeKUWqAL"
      },
      "source": [
        "https://stackoverflow.com/questions/6068236/reasons-of-sub-linear-speedup-in-parallel-programs"
      ],
      "execution_count": null,
      "outputs": []
    },
    {
      "cell_type": "markdown",
      "metadata": {
        "id": "2sdzJtHxIRsS"
      },
      "source": [
        "# Q2a"
      ]
    },
    {
      "cell_type": "code",
      "metadata": {
        "colab": {
          "base_uri": "https://localhost:8080/"
        },
        "id": "14hzvi_g0htK",
        "outputId": "36f72536-640f-4b39-a11d-42325243a5f6"
      },
      "source": [
        "z_mat = np.zeros((10, 100))\n",
        "len(z_mat[0][0])"
      ],
      "execution_count": null,
      "outputs": [
        {
          "output_type": "execute_result",
          "data": {
            "text/plain": [
              "100"
            ]
          },
          "metadata": {},
          "execution_count": 59
        }
      ]
    },
    {
      "cell_type": "code",
      "metadata": {
        "id": "XqanzOa0lwnt"
      },
      "source": [
        "\n",
        "from numba.pycc import CC\n",
        "\n",
        "# name of compiled module to create:\n",
        "cc = CC('q2a_aot')\n",
        "\n",
        "# name of function in module, with explicit data types required (4byte=32bit ints and floats)\n",
        "@cc.export('calc_p', 'f8[:,:](i8,i8,f8[:,:],f8,f8,f8,f8[:,:])')\n",
        "def calc_p(z_mat):\n",
        "    l_p = []\n",
        "    for r in range(len(z_mat[0])):\n",
        "        per_round = [t for t in range(len(z_mat)) if z_mat[t][r] > 0]\n",
        "        np = len(per_round)\n",
        "        l_p.append(np)\n",
        "\n",
        "    avg = sum(l_p)/len(l_p)\n",
        "    \n",
        "    return avg\n",
        "\n",
        "cc.compile()"
      ],
      "execution_count": null,
      "outputs": []
    },
    {
      "cell_type": "code",
      "metadata": {
        "id": "x_pRGwQp3Oqg"
      },
      "source": [
        "import numpy as np\n",
        "from numba.pycc import CC\n",
        "\n",
        "cc = CC('q2_aot')\n",
        "\n",
        "# name of function in module, with explicit data types required (4byte=32bit ints and floats)\n",
        "@cc.export('calc_p', 'f8(f8[:,:])')\n",
        "def calc_p(z_mat):\n",
        "    num = 0\n",
        "    n_neg = 0\n",
        "    for r in range(len(z_mat[0])): # iterating thru the number of running\n",
        "        n=0\n",
        "        for t in range(len(z_mat)):# iterating thru the periods of running\n",
        "            if z_mat[t][r] <= 0:\n",
        "                n = t\n",
        "                n_neg += 1\n",
        "                break\n",
        "        num += n\n",
        "    avg = num/n_neg\n",
        "    return avg\n",
        "\n",
        "cc.compile()"
      ],
      "execution_count": null,
      "outputs": []
    },
    {
      "cell_type": "code",
      "metadata": {
        "id": "WfwPasBf3T0k"
      },
      "source": [
        "rrrr = calc_p(z)\n",
        "rrrr[1]\n",
        "\n",
        "rrrr[0][1]\n",
        "bs = [i for i in rrrr[0] if i[2]<=0 and i[3]> 0]"
      ],
      "execution_count": null,
      "outputs": []
    },
    {
      "cell_type": "code",
      "metadata": {
        "colab": {
          "base_uri": "https://localhost:8080/"
        },
        "id": "B2K7_Ij25a1V",
        "outputId": "600bad37-29cc-43ea-92c5-f6dc68ce7962"
      },
      "source": [
        "sum([i[0] for i in rrrr[0]])/len(bs)"
      ],
      "execution_count": null,
      "outputs": [
        {
          "output_type": "execute_result",
          "data": {
            "text/plain": [
              "210.303"
            ]
          },
          "metadata": {},
          "execution_count": 99
        }
      ]
    },
    {
      "cell_type": "code",
      "metadata": {
        "colab": {
          "base_uri": "https://localhost:8080/"
        },
        "id": "aTHIfr-Ofj8R",
        "outputId": "4e21dde3-bbad-4634-bf81-680cc379aaef"
      },
      "source": [
        "%%writefile best_rho.py \n",
        "from mpi4py import MPI\n",
        "import numpy as np\n",
        "import q1a_aot\n",
        "import q2_aot\n",
        "import scipy.stats as sts\n",
        "import time\n",
        "import matplotlib.pyplot as plt\n",
        "import pickle\n",
        "\n",
        "\n",
        "\n",
        "def best_rho(n_runs=1000):\n",
        "    t0 = time.time()\n",
        "    # Set model parameters\n",
        "    step = 0.95*2/200\n",
        "    rho_arr = np.arange(-0.95,0.95, step)\n",
        "    mu = 3.0\n",
        "    sigma = 1.0\n",
        "    z_0 = mu - 3*sigma\n",
        "    # Set simulation parameters, draw all idiosyncratic random shocks,\n",
        "    # and create empty containers\n",
        "    S = n_runs # Set the number of lives to simulate\n",
        "    T = int(4160) # Set the number of periods for each simulation\n",
        "    np.random.seed(0)\n",
        "    eps_mat = sts.norm.rvs(loc=0, scale=sigma, size=(T, S))\n",
        "\n",
        "    comm = MPI.COMM_WORLD\n",
        "    size = comm.Get_size()\n",
        "    rank = comm.Get_rank()\n",
        "    name = MPI.Get_processor_name()\n",
        "\n",
        "    if rank == 0:\n",
        "      r_arr = rho_arr[0:20]\n",
        "    else:\n",
        "      r_arr = rho_arr[rank*20:(rank+1)*20]\n",
        "    z_mat = np.zeros((T, S))\n",
        "    l_r = []\n",
        "    l_p = []\n",
        "    for rho in r_arr:\n",
        "        z=q1a_aot.gen_ts(S,T,eps_mat,rho,mu,z_0,z_mat)\n",
        "        avg = q2_aot.calc_p(z)\n",
        "        l_r.append(rho)\n",
        "        l_p.append(avg)\n",
        "\n",
        "    r_ary = np.array(l_r)\n",
        "    p_ary = np.array(l_p)\n",
        "\n",
        "    recv1 = None\n",
        "    recv2=None\n",
        "    if rank == 0:\n",
        "          recv1 = np.empty([size*20,1],dtype='float')\n",
        "          recv2 = np.empty([size*20,1],dtype='float')\n",
        "    comm.Gather(sendbuf = r_ary, recvbuf = recv1, root = 0) #reduce maxloc?\n",
        "    comm.Gather(sendbuf = p_ary, recvbuf = recv2, root = 0)\n",
        "\n",
        "    b_rho = None\n",
        "    if rank == 0:\n",
        "        for i in range(200):\n",
        "            if recv2[i]==max(recv2):\n",
        "                b_rho = recv1[i]\n",
        "                print('rho:')\n",
        "                print(float(b_rho[0]))\n",
        "                print(recv2[i])\n",
        "        dt = time.time()-t0\n",
        "        print(float(dt))\n",
        "        r1 = pickle.dumps(recv1)\n",
        "        r2 = pickle.dumps(recv2)\n",
        "        print([float(i[0]) for i in recv1])\n",
        "        print([float(i[0]) for i in recv2])\n",
        "    \n",
        "\n",
        "    return\n",
        "\n",
        "def main():\n",
        "    best_rho(n_runs=1000)\n",
        "\n",
        "if __name__ == '__main__':\n",
        "    main()\n"
      ],
      "execution_count": null,
      "outputs": [
        {
          "output_type": "stream",
          "name": "stdout",
          "text": [
            "Overwriting best_rho.py\n"
          ]
        }
      ]
    },
    {
      "cell_type": "code",
      "metadata": {
        "colab": {
          "base_uri": "https://localhost:8080/"
        },
        "id": "TOvTzUSdvqKh",
        "outputId": "6e4c4d1f-13ba-4b82-83c8-54961679272e"
      },
      "source": [
        "!mpirun --allow-run-as-root -n 10 python3 best_rho.py"
      ],
      "execution_count": null,
      "outputs": [
        {
          "output_type": "stream",
          "name": "stdout",
          "text": [
            "rho:\n",
            "0.00949999999999529\n",
            "[734.70883534]\n",
            "12.037683010101318\n",
            "[-0.95, -0.9405, -0.931, -0.9215000000000001, -0.9120000000000001, -0.9025000000000002, -0.8930000000000002, -0.8835000000000003, -0.8740000000000003, -0.8645000000000004, -0.8550000000000004, -0.8455000000000005, -0.8360000000000005, -0.8265000000000006, -0.8170000000000006, -0.8075000000000007, -0.7980000000000007, -0.7885000000000008, -0.7790000000000008, -0.7695000000000008, -0.7600000000000009, -0.7505000000000009, -0.741000000000001, -0.731500000000001, -0.7220000000000011, -0.7125000000000011, -0.7030000000000012, -0.6935000000000012, -0.6840000000000013, -0.6745000000000013, -0.6650000000000014, -0.6555000000000014, -0.6460000000000015, -0.6365000000000015, -0.6270000000000016, -0.6175000000000016, -0.6080000000000017, -0.5985000000000017, -0.5890000000000017, -0.5795000000000018, -0.5700000000000018, -0.5605000000000019, -0.5510000000000019, -0.541500000000002, -0.532000000000002, -0.5225000000000021, -0.5130000000000021, -0.5035000000000022, -0.4940000000000022, -0.48450000000000226, -0.4750000000000023, -0.46550000000000236, -0.4560000000000024, -0.44650000000000245, -0.4370000000000025, -0.42750000000000254, -0.4180000000000026, -0.40850000000000264, -0.3990000000000027, -0.38950000000000273, -0.3800000000000028, -0.3705000000000028, -0.3610000000000029, -0.3515000000000029, -0.34200000000000297, -0.332500000000003, -0.32300000000000306, -0.3135000000000031, -0.30400000000000316, -0.2945000000000032, -0.28500000000000325, -0.2755000000000033, -0.26600000000000334, -0.2565000000000034, -0.24700000000000344, -0.23750000000000349, -0.22800000000000353, -0.21850000000000358, -0.20900000000000363, -0.19950000000000367, -0.19000000000000372, -0.18050000000000377, -0.17100000000000382, -0.16150000000000386, -0.1520000000000039, -0.14250000000000396, -0.133000000000004, -0.12350000000000405, -0.1140000000000041, -0.10450000000000415, -0.09500000000000419, -0.08550000000000424, -0.07600000000000429, -0.06650000000000433, -0.05700000000000438, -0.04750000000000443, -0.038000000000004475, -0.02850000000000452, -0.01900000000000457, -0.009500000000004616, -4.6629367034256575e-15, 0.00949999999999529, 0.018999999999995243, 0.028499999999995196, 0.03799999999999515, 0.0474999999999951, 0.056999999999995055, 0.0664999999999949, 0.07599999999999496, 0.08549999999999502, 0.09499999999999487, 0.10449999999999471, 0.11399999999999477, 0.12349999999999484, 0.13299999999999468, 0.14249999999999452, 0.15199999999999458, 0.16149999999999465, 0.1709999999999945, 0.18049999999999433, 0.1899999999999944, 0.19949999999999446, 0.2089999999999943, 0.21849999999999414, 0.2279999999999942, 0.23749999999999427, 0.2469999999999941, 0.25649999999999396, 0.265999999999994, 0.2754999999999941, 0.2849999999999939, 0.29449999999999377, 0.30399999999999383, 0.3134999999999939, 0.32299999999999374, 0.3324999999999936, 0.34199999999999364, 0.3514999999999937, 0.36099999999999355, 0.3704999999999934, 0.37999999999999345, 0.3894999999999935, 0.39899999999999336, 0.4084999999999932, 0.41799999999999327, 0.42749999999999333, 0.43699999999999317, 0.446499999999993, 0.4559999999999931, 0.46549999999999314, 0.474999999999993, 0.4844999999999928, 0.4939999999999929, 0.503499999999993, 0.5129999999999928, 0.5224999999999926, 0.5319999999999927, 0.5414999999999928, 0.5509999999999926, 0.5604999999999924, 0.5699999999999925, 0.5794999999999926, 0.5889999999999924, 0.5984999999999923, 0.6079999999999923, 0.6174999999999924, 0.6269999999999922, 0.6364999999999921, 0.6459999999999921, 0.6554999999999922, 0.664999999999992, 0.6744999999999919, 0.683999999999992, 0.693499999999992, 0.7029999999999919, 0.7124999999999917, 0.7219999999999918, 0.7314999999999918, 0.7409999999999917, 0.7504999999999915, 0.7599999999999916, 0.7694999999999916, 0.7789999999999915, 0.7884999999999913, 0.7979999999999914, 0.8074999999999914, 0.8169999999999913, 0.8264999999999911, 0.8359999999999912, 0.8454999999999913, 0.8549999999999911, 0.8644999999999909, 0.873999999999991, 0.8834999999999911, 0.8929999999999909, 0.9024999999999908, 0.9119999999999908, 0.9214999999999909, 0.9309999999999907, 0.9404999999999906]\n",
            "[9.441, 10.064, 10.795, 11.99, 13.555, 14.737, 15.971, 17.184, 18.511, 19.627, 21.499, 23.41, 25.885, 28.193, 29.846, 31.611, 33.805, 36.003, 39.082, 41.923, 45.53, 49.217, 53.062, 56.428, 60.252, 63.97, 67.724, 72.714, 78.136, 83.503, 88.724, 95.499, 102.164, 109.955, 117.47, 120.668, 127.325, 133.753, 139.918, 145.824, 152.003, 156.023, 162.644, 171.633, 183.027, 188.811, 199.401, 212.253, 222.179, 233.758, 244.229, 259.297, 270.633, 286.889, 300.277, 307.441, 324.73, 333.267, 341.708, 354.289, 368.114, 387.798, 395.71, 407.195, 415.181, 424.882, 435.995, 450.83, 462.844, 478.53553553553553, 492.13213213213214, 500.3793793793794, 525.8947895791583, 539.4208416833667, 557.4208416833667, 564.8917835671342, 579.2625250501002, 587.1513026052104, 599.9288577154308, 609.5661322645291, 626.185370741483, 636.7945891783567, 647.0831663326653, 653.7274549098196, 668.687374749499, 675.683366733467, 681.9789579158316, 689.0741482965932, 693.9158316633267, 699.628256513026, 705.9959919839679, 710.9177532597794, 712.0723618090452, 710.8569989929507, 718.6384692849949, 725.520644511581, 724.527693856999, 722.7072434607646, 726.6344410876133, 732.2462311557789, 732.1989949748744, 734.7088353413654, 721.8281407035175, 721.0713567839196, 722.6234939759037, 722.2961847389558, 717.3363453815261, 710.5486459378135, 709.9007021063189, 697.5105315947843, 689.0050100200401, 689.2364729458918, 685.2274549098196, 680.8398398398398, 662.4344344344345, 652.4294294294294, 647.7777777777778, 639.4694694694695, 627.5535535535536, 613.5205205205206, 607.4534534534534, 602.1041041041041, 591.1831831831831, 581.4114114114114, 576.065, 565.34, 547.821, 536.313, 526.785, 516.704, 505.401, 495.802, 482.333, 469.607, 460.38, 442.687, 431.482, 417.33, 406.471, 394.384, 382.804, 366.399, 351.028, 335.761, 324.341, 309.207, 301.99, 289.975, 281.264, 266.772, 253.2, 242.485, 237.598, 227.083, 218.228, 207.672, 194.426, 183.377, 166.847, 161.212, 155.007, 148.797, 141.852, 135.381, 129.055, 121.298, 113.759, 106.934, 100.374, 95.868, 90.986, 87.454, 82.323, 78.339, 75.24, 70.58, 66.472, 62.578, 58.654, 56.232, 52.443, 48.025, 44.459, 41.761, 38.822, 35.99, 33.365, 31.448, 29.188, 26.736, 24.358, 22.761, 21.55, 19.244, 18.461, 17.311, 16.452, 15.848, 15.005, 14.215]\n"
          ]
        }
      ]
    },
    {
      "cell_type": "code",
      "metadata": {
        "colab": {
          "base_uri": "https://localhost:8080/"
        },
        "id": "O-xHwA5nawGn",
        "outputId": "33ee2525-89e1-4e00-e6c3-7025d21b9bfe"
      },
      "source": [
        "l_r = [-0.95, -0.9405, -0.931, -0.9215000000000001, -0.9120000000000001, -0.9025000000000002, -0.8930000000000002, -0.8835000000000003, -0.8740000000000003, -0.8645000000000004, -0.8550000000000004, -0.8455000000000005, -0.8360000000000005, -0.8265000000000006, -0.8170000000000006, -0.8075000000000007, -0.7980000000000007, -0.7885000000000008, -0.7790000000000008, -0.7695000000000008, -0.7600000000000009, -0.7505000000000009, -0.741000000000001, -0.731500000000001, -0.7220000000000011, -0.7125000000000011, -0.7030000000000012, -0.6935000000000012, -0.6840000000000013, -0.6745000000000013, -0.6650000000000014, -0.6555000000000014, -0.6460000000000015, -0.6365000000000015, -0.6270000000000016, -0.6175000000000016, -0.6080000000000017, -0.5985000000000017, -0.5890000000000017, -0.5795000000000018, -0.5700000000000018, -0.5605000000000019, -0.5510000000000019, -0.541500000000002, -0.532000000000002, -0.5225000000000021, -0.5130000000000021, -0.5035000000000022, -0.4940000000000022, -0.48450000000000226, -0.4750000000000023, -0.46550000000000236, -0.4560000000000024, -0.44650000000000245, -0.4370000000000025, -0.42750000000000254, -0.4180000000000026, -0.40850000000000264, -0.3990000000000027, -0.38950000000000273, -0.3800000000000028, -0.3705000000000028, -0.3610000000000029, -0.3515000000000029, -0.34200000000000297, -0.332500000000003, -0.32300000000000306, -0.3135000000000031, -0.30400000000000316, -0.2945000000000032, -0.28500000000000325, -0.2755000000000033, -0.26600000000000334, -0.2565000000000034, -0.24700000000000344, -0.23750000000000349, -0.22800000000000353, -0.21850000000000358, -0.20900000000000363, -0.19950000000000367, -0.19000000000000372, -0.18050000000000377, -0.17100000000000382, -0.16150000000000386, -0.1520000000000039, -0.14250000000000396, -0.133000000000004, -0.12350000000000405, -0.1140000000000041, -0.10450000000000415, -0.09500000000000419, -0.08550000000000424, -0.07600000000000429, -0.06650000000000433, -0.05700000000000438, -0.04750000000000443, -0.038000000000004475, -0.02850000000000452, -0.01900000000000457, -0.009500000000004616, -4.6629367034256575e-15, 0.00949999999999529, 0.018999999999995243, 0.028499999999995196, 0.03799999999999515, 0.0474999999999951, 0.056999999999995055, 0.0664999999999949, 0.07599999999999496, 0.08549999999999502, 0.09499999999999487, 0.10449999999999471, 0.11399999999999477, 0.12349999999999484, 0.13299999999999468, 0.14249999999999452, 0.15199999999999458, 0.16149999999999465, 0.1709999999999945, 0.18049999999999433, 0.1899999999999944, 0.19949999999999446, 0.2089999999999943, 0.21849999999999414, 0.2279999999999942, 0.23749999999999427, 0.2469999999999941, 0.25649999999999396, 0.265999999999994, 0.2754999999999941, 0.2849999999999939, 0.29449999999999377, 0.30399999999999383, 0.3134999999999939, 0.32299999999999374, 0.3324999999999936, 0.34199999999999364, 0.3514999999999937, 0.36099999999999355, 0.3704999999999934, 0.37999999999999345, 0.3894999999999935, 0.39899999999999336, 0.4084999999999932, 0.41799999999999327, 0.42749999999999333, 0.43699999999999317, 0.446499999999993, 0.4559999999999931, 0.46549999999999314, 0.474999999999993, 0.4844999999999928, 0.4939999999999929, 0.503499999999993, 0.5129999999999928, 0.5224999999999926, 0.5319999999999927, 0.5414999999999928, 0.5509999999999926, 0.5604999999999924, 0.5699999999999925, 0.5794999999999926, 0.5889999999999924, 0.5984999999999923, 0.6079999999999923, 0.6174999999999924, 0.6269999999999922, 0.6364999999999921, 0.6459999999999921, 0.6554999999999922, 0.664999999999992, 0.6744999999999919, 0.683999999999992, 0.693499999999992, 0.7029999999999919, 0.7124999999999917, 0.7219999999999918, 0.7314999999999918, 0.7409999999999917, 0.7504999999999915, 0.7599999999999916, 0.7694999999999916, 0.7789999999999915, 0.7884999999999913, 0.7979999999999914, 0.8074999999999914, 0.8169999999999913, 0.8264999999999911, 0.8359999999999912, 0.8454999999999913, 0.8549999999999911, 0.8644999999999909, 0.873999999999991, 0.8834999999999911, 0.8929999999999909, 0.9024999999999908, 0.9119999999999908, 0.9214999999999909, 0.9309999999999907, 0.9404999999999906]\n",
        "\n",
        "\n",
        "len(l_r)"
      ],
      "execution_count": null,
      "outputs": [
        {
          "output_type": "execute_result",
          "data": {
            "text/plain": [
              "200"
            ]
          },
          "metadata": {},
          "execution_count": 114
        }
      ]
    },
    {
      "cell_type": "code",
      "metadata": {
        "colab": {
          "base_uri": "https://localhost:8080/"
        },
        "id": "ERP1DQow7OUa",
        "outputId": "fcf62d62-7cd9-4f49-8093-be2183fcea31"
      },
      "source": [
        "l_p = [9.441, 10.064, 10.795, 11.99, 13.555, 14.737, 15.971, 17.184, 18.511, 19.627, 21.499, 23.41, 25.885, 28.193, 29.846, 31.611, 33.805, 36.003, 39.082, 41.923, 45.53, 49.217, 53.062, 56.428, 60.252, 63.97, 67.724, 72.714, 78.136, 83.503, 88.724, 95.499, 102.164, 109.955, 117.47, 120.668, 127.325, 133.753, 139.918, 145.824, 152.003, 156.023, 162.644, 171.633, 183.027, 188.811, 199.401, 212.253, 222.179, 233.758, 244.229, 259.297, 270.633, 286.889, 300.277, 307.441, 324.73, 333.267, 341.708, 354.289, 368.114, 387.798, 395.71, 407.195, 415.181, 424.882, 435.995, 450.83, 462.844, 478.53553553553553, 492.13213213213214, 500.3793793793794, 525.8947895791583, 539.4208416833667, 557.4208416833667, 564.8917835671342, 579.2625250501002, 587.1513026052104, 599.9288577154308, 609.5661322645291, 626.185370741483, 636.7945891783567, 647.0831663326653, 653.7274549098196, 668.687374749499, 675.683366733467, 681.9789579158316, 689.0741482965932, 693.9158316633267, 699.628256513026, 705.9959919839679, 710.9177532597794, 712.0723618090452, 710.8569989929507, 718.6384692849949, 725.520644511581, 724.527693856999, 722.7072434607646, 726.6344410876133, 732.2462311557789, 732.1989949748744, 734.7088353413654, 721.8281407035175, 721.0713567839196, 722.6234939759037, 722.2961847389558, 717.3363453815261, 710.5486459378135, 709.9007021063189, 697.5105315947843, 689.0050100200401, 689.2364729458918, 685.2274549098196, 680.8398398398398, 662.4344344344345, 652.4294294294294, 647.7777777777778, 639.4694694694695, 627.5535535535536, 613.5205205205206, 607.4534534534534, 602.1041041041041, 591.1831831831831, 581.4114114114114, 576.065, 565.34, 547.821, 536.313, 526.785, 516.704, 505.401, 495.802, 482.333, 469.607, 460.38, 442.687, 431.482, 417.33, 406.471, 394.384, 382.804, 366.399, 351.028, 335.761, 324.341, 309.207, 301.99, 289.975, 281.264, 266.772, 253.2, 242.485, 237.598, 227.083, 218.228, 207.672, 194.426, 183.377, 166.847, 161.212, 155.007, 148.797, 141.852, 135.381, 129.055, 121.298, 113.759, 106.934, 100.374, 95.868, 90.986, 87.454, 82.323, 78.339, 75.24, 70.58, 66.472, 62.578, 58.654, 56.232, 52.443, 48.025, 44.459, 41.761, 38.822, 35.99, 33.365, 31.448, 29.188, 26.736, 24.358, 22.761, 21.55, 19.244, 18.461, 17.311, 16.452, 15.848, 15.005, 14.215]\n",
        "\n",
        "\n",
        "len(l_p)"
      ],
      "execution_count": null,
      "outputs": [
        {
          "output_type": "execute_result",
          "data": {
            "text/plain": [
              "200"
            ]
          },
          "metadata": {},
          "execution_count": 115
        }
      ]
    },
    {
      "cell_type": "code",
      "metadata": {
        "colab": {
          "base_uri": "https://localhost:8080/"
        },
        "id": "tZL-WDIheoS6",
        "outputId": "d47e9702-b706-41d0-9d71-ed3aec8f2697"
      },
      "source": [
        "import matplotlib.pyplot as plt\n",
        "\n",
        "plt.plot(l_r,l_p)\n",
        "plt.xlabel('Rhos')\n",
        "plt.ylabel('Periods');"
      ],
      "execution_count": null,
      "outputs": [
        {
          "output_type": "display_data",
          "data": {
            "image/png": "[encoded data removed]",
            "text/plain": [
              "<Figure size 432x288 with 1 Axes>"
            ]
          },
          "metadata": {
            "needs_background": "light"
          }
        }
      ]
    },
    {
      "cell_type": "code",
      "metadata": {
        "id": "vOyWKo8xsG8r"
      },
      "source": [
        ""
      ],
      "execution_count": null,
      "outputs": []
    },
    {
      "cell_type": "markdown",
      "metadata": {
        "id": "wA1GQoKUsHcI"
      },
      "source": [
        "# Q3a"
      ]
    },
    {
      "cell_type": "code",
      "metadata": {
        "colab": {
          "base_uri": "https://localhost:8080/"
        },
        "id": "RFt2thTBsNkv",
        "outputId": "44e58a62-483d-4480-d21f-9859849c211a"
      },
      "source": [
        "! pip install --user rasterio\n",
        "! pip install pyopencl mako"
      ],
      "execution_count": null,
      "outputs": [
        {
          "output_type": "stream",
          "name": "stdout",
          "text": [
            "Collecting rasterio\n",
            "  Downloading rasterio-1.2.10-cp37-cp37m-manylinux1_x86_64.whl (19.3 MB)\n",
            "\u001b[K     |████████████████████████████████| 19.3 MB 1.9 MB/s \n",
            "\u001b[?25hRequirement already satisfied: attrs in /usr/local/lib/python3.7/dist-packages (from rasterio) (21.2.0)\n",
            "Requirement already satisfied: certifi in /usr/local/lib/python3.7/dist-packages (from rasterio) (2021.5.30)\n",
            "Collecting snuggs>=1.4.1\n",
            "  Downloading snuggs-1.4.7-py3-none-any.whl (5.4 kB)\n",
            "Collecting affine\n",
            "  Downloading affine-2.3.0-py2.py3-none-any.whl (15 kB)\n",
            "Requirement already satisfied: setuptools in /usr/local/lib/python3.7/dist-packages (from rasterio) (57.4.0)\n",
            "Requirement already satisfied: numpy in /usr/local/lib/python3.7/dist-packages (from rasterio) (1.19.5)\n",
            "Collecting click-plugins\n",
            "  Downloading click_plugins-1.1.1-py2.py3-none-any.whl (7.5 kB)\n",
            "Collecting cligj>=0.5\n",
            "  Downloading cligj-0.7.2-py3-none-any.whl (7.1 kB)\n",
            "Requirement already satisfied: click>=4.0 in /usr/local/lib/python3.7/dist-packages (from rasterio) (7.1.2)\n",
            "Requirement already satisfied: pyparsing>=2.1.6 in /usr/local/lib/python3.7/dist-packages (from snuggs>=1.4.1->rasterio) (2.4.7)\n",
            "Installing collected packages: snuggs, cligj, click-plugins, affine, rasterio\n",
            "\u001b[33m  WARNING: The script rio is installed in '/root/.local/bin' which is not on PATH.\n",
            "  Consider adding this directory to PATH or, if you prefer to suppress this warning, use --no-warn-script-location.\u001b[0m\n",
            "Successfully installed affine-2.3.0 click-plugins-1.1.1 cligj-0.7.2 rasterio-1.2.10 snuggs-1.4.7\n",
            "Collecting pyopencl\n",
            "  Downloading pyopencl-2021.2.9-cp37-cp37m-manylinux_2_17_x86_64.manylinux2014_x86_64.whl (879 kB)\n",
            "\u001b[K     |████████████████████████████████| 879 kB 5.3 MB/s \n",
            "\u001b[?25hCollecting mako\n",
            "  Downloading Mako-1.1.5-py2.py3-none-any.whl (75 kB)\n",
            "\u001b[K     |████████████████████████████████| 75 kB 4.0 MB/s \n",
            "\u001b[?25hCollecting pytools>=2021.2.7\n",
            "  Downloading pytools-2021.2.8.tar.gz (63 kB)\n",
            "\u001b[K     |████████████████████████████████| 63 kB 1.8 MB/s \n",
            "\u001b[?25hRequirement already satisfied: numpy in /usr/local/lib/python3.7/dist-packages (from pyopencl) (1.19.5)\n",
            "Requirement already satisfied: appdirs>=1.4.0 in /usr/local/lib/python3.7/dist-packages (from pyopencl) (1.4.4)\n",
            "Requirement already satisfied: MarkupSafe>=0.9.2 in /usr/local/lib/python3.7/dist-packages (from mako) (2.0.1)\n",
            "Building wheels for collected packages: pytools\n",
            "  Building wheel for pytools (setup.py) ... \u001b[?25l\u001b[?25hdone\n",
            "  Created wheel for pytools: filename=pytools-2021.2.8-py2.py3-none-any.whl size=60725 sha256=759b3e89d0ade0c4a8e248b7299c1f87c06c1f4602f41c7665c377c1344d1138\n",
            "  Stored in directory: /root/.cache/pip/wheels/bd/2d/ef/0127a17bafa44971f11d05d0e38d7947144cf9e33313bf12a7\n",
            "Successfully built pytools\n",
            "Installing collected packages: pytools, pyopencl, mako\n",
            "Successfully installed mako-1.1.5 pyopencl-2021.2.9 pytools-2021.2.8\n"
          ]
        }
      ]
    },
    {
      "cell_type": "code",
      "metadata": {
        "id": "I3CSdVorDzvw"
      },
      "source": [
        "! export PATH=/root/.local/bin:$PATH"
      ],
      "execution_count": null,
      "outputs": []
    },
    {
      "cell_type": "code",
      "metadata": {
        "colab": {
          "base_uri": "https://localhost:8080/"
        },
        "id": "t1_muqBWEfuI",
        "outputId": "ba71524e-c3c7-4eb1-9c7c-9c07b73b957a"
      },
      "source": [
        "pip install --user rasterio"
      ],
      "execution_count": null,
      "outputs": [
        {
          "output_type": "stream",
          "name": "stdout",
          "text": [
            "Requirement already satisfied: rasterio in /root/.local/lib/python3.7/site-packages (1.2.10)\n",
            "Requirement already satisfied: numpy in /usr/local/lib/python3.7/dist-packages (from rasterio) (1.19.5)\n",
            "Requirement already satisfied: cligj>=0.5 in /root/.local/lib/python3.7/site-packages (from rasterio) (0.7.2)\n",
            "Requirement already satisfied: affine in /root/.local/lib/python3.7/site-packages (from rasterio) (2.3.0)\n",
            "Requirement already satisfied: click-plugins in /root/.local/lib/python3.7/site-packages (from rasterio) (1.1.1)\n",
            "Requirement already satisfied: snuggs>=1.4.1 in /root/.local/lib/python3.7/site-packages (from rasterio) (1.4.7)\n",
            "Requirement already satisfied: setuptools in /usr/local/lib/python3.7/dist-packages (from rasterio) (57.4.0)\n",
            "Requirement already satisfied: attrs in /usr/local/lib/python3.7/dist-packages (from rasterio) (21.2.0)\n",
            "Requirement already satisfied: certifi in /usr/local/lib/python3.7/dist-packages (from rasterio) (2021.5.30)\n",
            "Requirement already satisfied: click>=4.0 in /usr/local/lib/python3.7/dist-packages (from rasterio) (7.1.2)\n",
            "Requirement already satisfied: pyparsing>=2.1.6 in /usr/local/lib/python3.7/dist-packages (from snuggs>=1.4.1->rasterio) (2.4.7)\n"
          ]
        }
      ]
    },
    {
      "cell_type": "code",
      "metadata": {
        "id": "NEcTKAJ2HlcS"
      },
      "source": [
        ""
      ],
      "execution_count": null,
      "outputs": []
    },
    {
      "cell_type": "code",
      "metadata": {
        "id": "uRFWFoYdGnEM"
      },
      "source": [
        ""
      ],
      "execution_count": null,
      "outputs": []
    },
    {
      "cell_type": "code",
      "metadata": {
        "colab": {
          "base_uri": "https://localhost:8080/",
          "height": 393
        },
        "id": "lFvcicf5DXkc",
        "outputId": "17bae058-95d9-4d0d-b291-b25294574fe3"
      },
      "source": [
        "# Import required libraries\n",
        "import rasterio\n",
        "import numpy as np\n",
        "# Import bands as separate images; in /project2/macs30123 on Midway2\n",
        "band4 = rasterio.open('/content/LC08_B4.tif') #red\n",
        "band5 = rasterio.open('/content/LC08_B5.tif') #nir\n",
        "# Convert nir and red objects to float64 arrays\n",
        "red = band4.read(1).astype('float64')\n",
        "nir = band5.read(1).astype('float64')\n",
        "# NDVI calculation\n",
        "ndvi = (nir - red) / (nir + red)"
      ],
      "execution_count": null,
      "outputs": [
        {
          "output_type": "error",
          "ename": "ModuleNotFoundError",
          "evalue": "ignored",
          "traceback": [
            "\u001b[0;31m---------------------------------------------------------------------------\u001b[0m",
            "\u001b[0;31mModuleNotFoundError\u001b[0m                       Traceback (most recent call last)",
            "\u001b[0;32m<ipython-input-124-9aec8b8e197c>\u001b[0m in \u001b[0;36m<module>\u001b[0;34m()\u001b[0m\n\u001b[1;32m      1\u001b[0m \u001b[0;31m# Import required libraries\u001b[0m\u001b[0;34m\u001b[0m\u001b[0;34m\u001b[0m\u001b[0;34m\u001b[0m\u001b[0m\n\u001b[0;32m----> 2\u001b[0;31m \u001b[0;32mimport\u001b[0m \u001b[0mrasterio\u001b[0m\u001b[0;34m\u001b[0m\u001b[0;34m\u001b[0m\u001b[0m\n\u001b[0m\u001b[1;32m      3\u001b[0m \u001b[0;32mimport\u001b[0m \u001b[0mnumpy\u001b[0m \u001b[0;32mas\u001b[0m \u001b[0mnp\u001b[0m\u001b[0;34m\u001b[0m\u001b[0;34m\u001b[0m\u001b[0m\n\u001b[1;32m      4\u001b[0m \u001b[0;31m# Import bands as separate images; in /project2/macs30123 on Midway2\u001b[0m\u001b[0;34m\u001b[0m\u001b[0;34m\u001b[0m\u001b[0;34m\u001b[0m\u001b[0m\n\u001b[1;32m      5\u001b[0m \u001b[0mband4\u001b[0m \u001b[0;34m=\u001b[0m \u001b[0mrasterio\u001b[0m\u001b[0;34m.\u001b[0m\u001b[0mopen\u001b[0m\u001b[0;34m(\u001b[0m\u001b[0;34m'/content/LC08_B4.tif'\u001b[0m\u001b[0;34m)\u001b[0m \u001b[0;31m#red\u001b[0m\u001b[0;34m\u001b[0m\u001b[0;34m\u001b[0m\u001b[0m\n",
            "\u001b[0;31mModuleNotFoundError\u001b[0m: No module named 'rasterio'",
            "",
            "\u001b[0;31m---------------------------------------------------------------------------\u001b[0;32m\nNOTE: If your import is failing due to a missing package, you can\nmanually install dependencies using either !pip or !apt.\n\nTo view examples of installing some common dependencies, click the\n\"Open Examples\" button below.\n\u001b[0;31m---------------------------------------------------------------------------\u001b[0m\n"
          ],
          "errorDetails": {
            "actions": [
              {
                "action": "open_url",
                "actionText": "Open Examples",
                "url": "/notebooks/snippets/importing_libraries.ipynb"
              }
            ]
          }
        }
      ]
    },
    {
      "cell_type": "code",
      "metadata": {
        "id": "tmJ17LumDDvo"
      },
      "source": [
        "import pyopencl as cl\n",
        "import numpy as np\n",
        "\n",
        "ctx = cl.create_some_context()\n",
        "queue = cl.CommandQueue(ctx)\n",
        "\n"
      ],
      "execution_count": null,
      "outputs": []
    }
  ]
}
{
 "cells": [
  {
   "cell_type": "code",
   "execution_count": null,
   "id": "subject-waters",
   "metadata": {},
   "outputs": [],
   "source": [
    "import random"
   ]
  },
  {
   "cell_type": "code",
   "execution_count": null,
   "id": "median-lounge",
   "metadata": {},
   "outputs": [],
   "source": [
    "s = input('what to non-sensify?')\n",
    "n = int(input('how much non-sense (less than the alphabet count)?'))"
   ]
  },
  {
   "cell_type": "code",
   "execution_count": null,
   "id": "changing-exhibit",
   "metadata": {},
   "outputs": [],
   "source": [
    "l = len(s)\n",
    "ind = []\n",
    "ns = ''\n",
    "while len(ind)<=n:\n",
    "    r = random.choice(range(l))\n",
    "    if r not in ind:\n",
    "        ind.append(r)\n",
    "        \n",
    "for i in range(l):\n",
    "    a = s[i]\n",
    "    if i in ind and a != ' ':\n",
    "        if a.lower() == a:\n",
    "            a = a.upper()\n",
    "        else:\n",
    "            a = a.lower()\n",
    "    ns += a\n",
    "\n",
    "print(ns)"
   ]
  }
 ],
 "metadata": {
  "kernelspec": {
   "display_name": "Python 3",
   "language": "python",
   "name": "python3"
  },
  "language_info": {
   "codemirror_mode": {
    "name": "ipython",
    "version": 3
   },
   "file_extension": ".py",
   "mimetype": "text/x-python",
   "name": "python",
   "nbconvert_exporter": "python",
   "pygments_lexer": "ipython3",
   "version": "3.8.5"
  }
 },
 "nbformat": 4,
 "nbformat_minor": 5
}

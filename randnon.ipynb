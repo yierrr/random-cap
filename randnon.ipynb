{
 "cells": [
  {
   "cell_type": "code",
   "execution_count": 1,
   "id": "systematic-tsunami",
   "metadata": {},
   "outputs": [],
   "source": [
    "import random"
   ]
  },
  {
   "cell_type": "code",
   "execution_count": 2,
   "id": "north-cattle",
   "metadata": {},
   "outputs": [
    {
     "name": "stdin",
     "output_type": "stream",
     "text": [
      "what to non-sensify? shgfjeg shgjhad hjjd\n",
      "how much non-sense? (less than the alphabet count) 12\n"
     ]
    }
   ],
   "source": [
    "s = input('what to non-sensify?')\n",
    "n = int(input('how much non-sense (less than the alphabet count)?'))"
   ]
  },
  {
   "cell_type": "code",
   "execution_count": 10,
   "id": "available-geneva",
   "metadata": {},
   "outputs": [
    {
     "name": "stdout",
     "output_type": "stream",
     "text": [
      "ShgFjeg SHgJHAD hJjD\n"
     ]
    }
   ],
   "source": [
    "l = len(s)\n",
    "ind = []\n",
    "ns = ''\n",
    "while len(ind)<n:\n",
    "    r = random.choice(range(l))\n",
    "    if r not in ind:\n",
    "        ind.append(r)\n",
    "        \n",
    "for i in range(l):\n",
    "    a = s[i]\n",
    "    if i in ind and a != ' ':\n",
    "        if a.lower() == a:\n",
    "            a = a.upper()\n",
    "        else:\n",
    "            a = a.lower()\n",
    "    ns += a\n",
    "\n",
    "print(ns)"
   ]
  }
 ],
 "metadata": {
  "kernelspec": {
   "display_name": "Python 3",
   "language": "python",
   "name": "python3"
  },
  "language_info": {
   "codemirror_mode": {
    "name": "ipython",
    "version": 3
   },
   "file_extension": ".py",
   "mimetype": "text/x-python",
   "name": "python",
   "nbconvert_exporter": "python",
   "pygments_lexer": "ipython3",
   "version": "3.8.5"
  }
 },
 "nbformat": 4,
 "nbformat_minor": 5
}
